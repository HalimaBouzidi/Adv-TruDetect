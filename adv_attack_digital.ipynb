{
 "cells": [
  {
   "cell_type": "code",
   "execution_count": 1,
   "id": "a797f3fc",
   "metadata": {},
   "outputs": [],
   "source": [
    "import torch\n",
    "from adversarial_attack.fgsm import FGSM\n",
    "from adversarial_attack.pgd import PGD\n",
    "from adversarial_attack.bim import BIM\n",
    "from adversarial_attack.utils import compute_accuracy, compute_confusion_matrix"
   ]
  },
  {
   "cell_type": "markdown",
   "id": "13ca4fbe",
   "metadata": {},
   "source": [
    "#### Create the HT model and import pretrained weights"
   ]
  },
  {
   "cell_type": "code",
   "execution_count": 3,
   "id": "bf5fbde3",
   "metadata": {},
   "outputs": [
    {
     "name": "stdout",
     "output_type": "stream",
     "text": [
      "Chunking...0/3\n",
      "Read 1M Feature Traces.\n",
      "Chunking...1/3\n",
      "Read 2M Feature Traces.\n",
      "Chunking...2/3\n",
      "Read 3M Feature Traces.\n",
      "Chunking...Last\n",
      "Read 4M Feature Traces.\n",
      "Iterable Dataset Loaded...\n",
      "===TEST===\n",
      "Chunking...0/1\n",
      "Chunking...Last\n",
      "Read 1M Feature Traces.\n",
      "Iterable Dataset Loaded...\n",
      "Model loaded\n"
     ]
    }
   ],
   "source": [
    "import pickle\n",
    "from dnn_model.CNN_netlist_softma_save_resluts import Classifier_Netlist\n",
    "\n",
    "with open('save/source_config.pkl', 'rb') as pickle_file:\n",
    "    source_config_copy = pickle.load(pickle_file)\n",
    "\n",
    "path = '/home/erastus/Desktop/Postdoc_projects/Adv-TruDetect/json_temp_file/word2vec_emb/CNN_model_pretrained.pth'\n",
    "HTnn_net = Classifier_Netlist(group_id=str(2), base_path='json_temp_file', source_config=source_config_copy, pretrained=path)   "
   ]
  },
  {
   "cell_type": "markdown",
   "id": "99ce4a24",
   "metadata": {},
   "source": [
    "#### Evaluate the HT model on val_data"
   ]
  },
  {
   "cell_type": "code",
   "execution_count": 4,
   "id": "8d5ec2f6",
   "metadata": {},
   "outputs": [
    {
     "name": "stdout",
     "output_type": "stream",
     "text": [
      "2024-07-16 04:51:42,433 KFD[2]_nnclassifier INFO: ====TEST====\n"
     ]
    },
    {
     "name": "stderr",
     "output_type": "stream",
     "text": [
      "33716it [01:08, 493.18it/s]                         "
     ]
    },
    {
     "name": "stdout",
     "output_type": "stream",
     "text": [
      "2024-07-16 04:52:50,805 KFD[2]_nnclassifier INFO: Test Loss: 0.280729, Acc: 0.998739\n",
      "2024-07-16 04:52:50,806 KFD[2]_nnclassifier INFO: tensor([[1.0767e+06, 2.9300e+02],\n",
      "        [1.0400e+03, 8.4400e+02]])\n",
      "2024-07-16 04:52:50,811 KFD[2]_nnclassifier INFO: tensor([0.9997, 0.4480])\n",
      "2024-07-16 04:52:50,811 KFD[2]_nnclassifier INFO: tensor([0.9990, 0.7423])\n"
     ]
    },
    {
     "name": "stderr",
     "output_type": "stream",
     "text": [
      "\n"
     ]
    }
   ],
   "source": [
    "HTnn_net.evaluate_no_save()"
   ]
  },
  {
   "cell_type": "markdown",
   "id": "2425a130",
   "metadata": {},
   "source": [
    "#### Sample a subset of HT PCPs from the validation dataset"
   ]
  },
  {
   "cell_type": "code",
   "execution_count": 6,
   "id": "8a685752",
   "metadata": {},
   "outputs": [],
   "source": [
    "clean_data, clean_labels = [], []\n",
    "\n",
    "n_samples = 10000\n",
    "for i, sample_batched in enumerate(HTnn_net.val_dataloader):\n",
    "    clean_data.append(torch.unsqueeze(sample_batched[0], 1))\n",
    "    clean_labels.append(sample_batched[1])\n",
    "    if i == n_samples:\n",
    "        break\n",
    "\n",
    "clean_data = torch.stack(clean_data, dim=0).to(HTnn_net.device)\n",
    "clean_data = clean_data.view(clean_data.size(0)*clean_data.size(1), clean_data.size(2), clean_data.size(3), clean_data.size(4))\n",
    "clean_labels = torch.stack(clean_labels, dim=0).view(clean_data.size(0)*clean_data.size(1)).to(HTnn_net.device)\n",
    "clean_labels = clean_labels.view(clean_data.size(0)*clean_data.size(1))\n",
    "\n",
    "mask = clean_labels[:] == 1\n",
    "indices = torch.nonzero(mask).squeeze()\n",
    "\n",
    "clean_data = clean_data[indices]\n",
    "clean_labels = clean_labels[indices]"
   ]
  },
  {
   "cell_type": "markdown",
   "id": "7f5346b4",
   "metadata": {},
   "source": [
    "#### Run the Adversarial Attack (FGSM)"
   ]
  },
  {
   "cell_type": "code",
   "execution_count": 7,
   "id": "e9285394",
   "metadata": {},
   "outputs": [
    {
     "name": "stdout",
     "output_type": "stream",
     "text": [
      "Robust Accuracy 0.18740849194729137\n",
      "Before Adv Attack -- TN 0 | FP 0 | FN 115 | TP 568\n",
      "After Adv Attack -- TN 0 | FP 0 | FN 555 | TP 128\n"
     ]
    }
   ],
   "source": [
    "adv_attack = FGSM(HTnn_net.model, eps=8/255)\n",
    "adv_data = adv_attack(clean_data, clean_labels)\n",
    "\n",
    "robust_acc = compute_accuracy(HTnn_net.model, adv_data, clean_labels, batch_size=32, device=HTnn_net.device)\n",
    "print(\"Robust Accuracy\", robust_acc) \n",
    "\n",
    "cm = compute_confusion_matrix(HTnn_net.model, clean_data, clean_labels, HTnn_net.device)\n",
    "tn, fp, fn, tp = cm.ravel()\n",
    "print(\"Before Adv Attack -- TN {} | FP {} | FN {} | TP {}\".format(tn, fp, fn, tp))\n",
    "\n",
    "cm = compute_confusion_matrix(HTnn_net.model, adv_data, clean_labels, HTnn_net.device)\n",
    "tn, fp, fn, tp = cm.ravel()\n",
    "print(\"After Adv Attack -- TN {} | FP {} | FN {} | TP {}\".format(tn, fp, fn, tp))"
   ]
  },
  {
   "cell_type": "markdown",
   "id": "bd8a7d0e",
   "metadata": {},
   "source": [
    "#### Run the Adversarial Attack (PGD)"
   ]
  },
  {
   "cell_type": "code",
   "execution_count": 8,
   "id": "2fafaaa6",
   "metadata": {},
   "outputs": [
    {
     "name": "stdout",
     "output_type": "stream",
     "text": [
      "Robust Accuracy 0.1493411420204978\n",
      "Before Adv Attack -- TN 0 | FP 0 | FN 115 | TP 568\n",
      "After Adv Attack -- TN 0 | FP 0 | FN 581 | TP 102\n"
     ]
    }
   ],
   "source": [
    "adv_attack = PGD(HTnn_net.model, eps=16/255)\n",
    "adv_data = adv_attack(clean_data, clean_labels)\n",
    "\n",
    "robust_acc = compute_accuracy(HTnn_net.model, adv_data, clean_labels, batch_size=32, device=HTnn_net.device)\n",
    "print(\"Robust Accuracy\", robust_acc) \n",
    "\n",
    "cm = compute_confusion_matrix(HTnn_net.model, clean_data, clean_labels, HTnn_net.device)\n",
    "tn, fp, fn, tp = cm.ravel()\n",
    "print(\"Before Adv Attack -- TN {} | FP {} | FN {} | TP {}\".format(tn, fp, fn, tp))\n",
    "\n",
    "cm = compute_confusion_matrix(HTnn_net.model, adv_data, clean_labels, HTnn_net.device)\n",
    "tn, fp, fn, tp = cm.ravel()\n",
    "print(\"After Adv Attack -- TN {} | FP {} | FN {} | TP {}\".format(tn, fp, fn, tp))"
   ]
  },
  {
   "cell_type": "markdown",
   "id": "9a8ad2f0",
   "metadata": {},
   "source": [
    "#### Run the Adversarial Attack (BiM)"
   ]
  },
  {
   "cell_type": "code",
   "execution_count": 9,
   "id": "83a2c10e",
   "metadata": {},
   "outputs": [
    {
     "name": "stdout",
     "output_type": "stream",
     "text": [
      "Robust Accuracy 0.0\n",
      "Before Adv Attack -- TN 0 | FP 0 | FN 115 | TP 568\n",
      "After Adv Attack -- TN 0 | FP 0 | FN 683 | TP 0\n"
     ]
    }
   ],
   "source": [
    "adv_attack = BIM(HTnn_net.model, eps=8/255)\n",
    "adv_data = adv_attack(clean_data, clean_labels)\n",
    "\n",
    "robust_acc = compute_accuracy(HTnn_net.model, adv_data, clean_labels, batch_size=32, device=HTnn_net.device)\n",
    "print(\"Robust Accuracy\", robust_acc) \n",
    "\n",
    "cm = compute_confusion_matrix(HTnn_net.model, clean_data, clean_labels, HTnn_net.device)\n",
    "tn, fp, fn, tp = cm.ravel()\n",
    "print(\"Before Adv Attack -- TN {} | FP {} | FN {} | TP {}\".format(tn, fp, fn, tp))\n",
    "\n",
    "cm = compute_confusion_matrix(HTnn_net.model, adv_data, clean_labels, HTnn_net.device)\n",
    "tn, fp, fn, tp = cm.ravel()\n",
    "print(\"After Adv Attack -- TN {} | FP {} | FN {} | TP {}\".format(tn, fp, fn, tp))"
   ]
  },
  {
   "cell_type": "code",
   "execution_count": null,
   "id": "377a009f",
   "metadata": {},
   "outputs": [],
   "source": []
  }
 ],
 "metadata": {
  "kernelspec": {
   "display_name": "Python 3",
   "language": "python",
   "name": "python3"
  },
  "language_info": {
   "codemirror_mode": {
    "name": "ipython",
    "version": 3
   },
   "file_extension": ".py",
   "mimetype": "text/x-python",
   "name": "python",
   "nbconvert_exporter": "python",
   "pygments_lexer": "ipython3",
   "version": "3.7.7"
  }
 },
 "nbformat": 4,
 "nbformat_minor": 5
}
