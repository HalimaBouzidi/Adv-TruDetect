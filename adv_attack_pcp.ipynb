{
 "cells": [
  {
   "cell_type": "code",
   "execution_count": 1,
   "id": "a797f3fc",
   "metadata": {},
   "outputs": [],
   "source": [
    "import random\n",
    "import numpy as np\n",
    "from copy import copy, deepcopy\n",
    "from adversarial_attack.pcp_utils import *"
   ]
  },
  {
   "cell_type": "markdown",
   "id": "13ca4fbe",
   "metadata": {},
   "source": [
    "#### Create the HT model and load pretrained weights"
   ]
  },
  {
   "cell_type": "code",
   "execution_count": 3,
   "id": "bf5fbde3",
   "metadata": {},
   "outputs": [
    {
     "name": "stdout",
     "output_type": "stream",
     "text": [
      "Chunking...0/3\n",
      "Read 1M Feature Traces.\n",
      "Chunking...1/3\n",
      "Read 2M Feature Traces.\n",
      "Chunking...2/3\n",
      "Read 3M Feature Traces.\n",
      "Chunking...Last\n",
      "Read 4M Feature Traces.\n",
      "Iterable Dataset Loaded...\n",
      "===TEST===\n",
      "Chunking...0/1\n",
      "Chunking...Last\n",
      "Read 1M Feature Traces.\n",
      "Iterable Dataset Loaded...\n",
      "Model loaded\n",
      "2024-07-18 10:02:50,236 KFD[2]_nnclassifier INFO: ====TEST====\n"
     ]
    },
    {
     "name": "stderr",
     "output_type": "stream",
     "text": [
      "33716it [02:12, 254.24it/s]                         "
     ]
    },
    {
     "name": "stdout",
     "output_type": "stream",
     "text": [
      "2024-07-18 10:05:02,852 KFD[2]_nnclassifier INFO: Test Loss: 0.280729, Acc: 0.998739\n"
     ]
    },
    {
     "name": "stderr",
     "output_type": "stream",
     "text": [
      "\n"
     ]
    },
    {
     "name": "stdout",
     "output_type": "stream",
     "text": [
      "2024-07-18 10:05:02,854 KFD[2]_nnclassifier INFO: tensor([[1.0767e+06, 2.9300e+02],\n",
      "        [1.0400e+03, 8.4400e+02]])\n",
      "2024-07-18 10:05:02,877 KFD[2]_nnclassifier INFO: tensor([0.9997, 0.4480])\n",
      "2024-07-18 10:05:02,879 KFD[2]_nnclassifier INFO: tensor([0.9990, 0.7423])\n"
     ]
    }
   ],
   "source": [
    "import pickle\n",
    "from dnn_model.CNN_netlist_softma_save_resluts import Classifier_Netlist\n",
    "\n",
    "with open('save/source_config.pkl', 'rb') as pickle_file:\n",
    "    source_config_copy = pickle.load(pickle_file)\n",
    "\n",
    "path = './weights/CNN_model_pretrained.pth'\n",
    "HTnn_net = Classifier_Netlist(group_id=str(2), base_path='json_temp_file', source_config=source_config_copy, pretrained=path)  \n",
    "HTnn_net.evaluate_no_save() "
   ]
  },
  {
   "cell_type": "markdown",
   "id": "8784abd1",
   "metadata": {},
   "source": [
    "### Get all the trojan circuits and choose one for adversarial modifications (e.g., 'troj33_0U4@c6288_T033_noassign_vallogic')"
   ]
  },
  {
   "cell_type": "code",
   "execution_count": 5,
   "id": "63cbe826",
   "metadata": {},
   "outputs": [
    {
     "data": {
      "text/plain": [
       "['troj33_0U4@c6288_T033_noassign_vallogic',\n",
       " 'troj7_0U4@s15850_T007_noassign_vallogic',\n",
       " 'trojan15_0@s13207_T015_noassign_vallogic',\n",
       " 'troj64_0U4@c3540_T064_noassign_vallogic',\n",
       " 'troj7_0U3@s15850_T007_noassign_vallogic',\n",
       " 'troj2_0U3@c2670_T002_noassign_vallogic',\n",
       " 'troj17_0U7@s35932_T017_noassign_vallogic',\n",
       " 'trojan2_0@c2670_T002_noassign_vallogic',\n",
       " 'troj17_0U3@s35932_T017_noassign_vallogic',\n",
       " 'troj64_0U3@c3540_T064_noassign_vallogic',\n",
       " 'troj17_0U5@s35932_T017_noassign_vallogic',\n",
       " 'troj58_0U1@c5315_T058_noassign_vallogic',\n",
       " 'troj10_0U3@s1423_T010_noassign_vallogic',\n",
       " 'troj58_0U2@c5315_T058_noassign_vallogic',\n",
       " 'troj15_0U1@s13207_T015_noassign_vallogic',\n",
       " 'troj10_0U1@s1423_T010_noassign_vallogic',\n",
       " 'troj17_0U6@s35932_T017_noassign_vallogic',\n",
       " 'troj33_0U2@c6288_T033_noassign_vallogic',\n",
       " 'trojan10_0@s1423_T010_noassign_vallogic',\n",
       " 'troj33_0U1@c6288_T033_noassign_vallogic',\n",
       " 'troj64_0U5@c3540_T064_noassign_vallogic',\n",
       " 'troj15_0U3@s13207_T015_noassign_vallogic',\n",
       " 'troj58_0U6@c5315_T058_noassign_vallogic',\n",
       " 'troj33_0U7@c6288_T033_noassign_vallogic',\n",
       " 'troj17_0U4@s35932_T017_noassign_vallogic',\n",
       " 'troj64_0U1@c3540_T064_noassign_vallogic',\n",
       " 'troj7_0U2@s15850_T007_noassign_vallogic',\n",
       " 'troj2_0U1@c2670_T002_noassign_vallogic',\n",
       " 'troj15_0U2@s13207_T015_noassign_vallogic',\n",
       " 'trojan64_0@c3540_T064_noassign_vallogic',\n",
       " 'troj10_0U2@s1423_T010_noassign_vallogic',\n",
       " 'troj17_0U8@s35932_T017_noassign_vallogic',\n",
       " 'trojan58_0@c5315_T058_noassign_vallogic',\n",
       " 'troj33_0U6@c6288_T033_noassign_vallogic',\n",
       " 'trojan17_0@s35932_T017_noassign_vallogic',\n",
       " 'troj15_0U5@s13207_T015_noassign_vallogic',\n",
       " 'troj33_0U3@c6288_T033_noassign_vallogic',\n",
       " 'troj15_0U4@s13207_T015_noassign_vallogic',\n",
       " 'troj58_0U4@c5315_T058_noassign_vallogic',\n",
       " 'troj58_0U3@c5315_T058_noassign_vallogic',\n",
       " 'trojan33_0@c6288_T033_noassign_vallogic',\n",
       " 'troj58_0U5@c5315_T058_noassign_vallogic',\n",
       " 'trojan7_0@s15850_T007_noassign_vallogic',\n",
       " 'troj64_0U2@c3540_T064_noassign_vallogic',\n",
       " 'troj2_0U2@c2670_T002_noassign_vallogic',\n",
       " 'troj7_0U1@s15850_T007_noassign_vallogic',\n",
       " 'troj17_0U2@s35932_T017_noassign_vallogic',\n",
       " 'troj2_0U4@c2670_T002_noassign_vallogic',\n",
       " 'troj33_0U5@c6288_T033_noassign_vallogic',\n",
       " 'troj17_0U1@s35932_T017_noassign_vallogic']"
      ]
     },
     "execution_count": 5,
     "metadata": {},
     "output_type": "execute_result"
    }
   ],
   "source": [
    "all_text_labels = get_all_text_labels(HTnn_net.val_dataloader)\n",
    "trojan_comps_labels = []\n",
    "for elem in all_text_labels:\n",
    "    if elem.startswith(\"t\"):\n",
    "        trojan_comps_labels.append(elem)\n",
    "\n",
    "trojan_comp = trojan_comps_labels[0] ## Choose one trojna circuit (automate later)\n",
    "pcp_embs = get_samples_by_text_label(HTnn_net.val_dataloader, trojan_comp)\n",
    "trojan_comps_labels"
   ]
  },
  {
   "cell_type": "markdown",
   "id": "29c183bb",
   "metadata": {},
   "source": [
    "### Get all the PCP embeddings and component names for the pre-selected trojan circuit"
   ]
  },
  {
   "cell_type": "code",
   "execution_count": 7,
   "id": "e8876077",
   "metadata": {},
   "outputs": [
    {
     "name": "stdout",
     "output_type": "stream",
     "text": [
      "['DIN1_nor2_Q', 'DIN1_nor2_Q', 'DIN1_nnd4_Q', 'DIN3_nor5_Q', 'DIN2_xor2_Q'] 1\n",
      "['DIN1_nor2_Q', 'DIN1_nor2_Q', 'DIN1_nnd4_Q', 'DIN3_nor5_Q', 'DIN2_xor2_Q'] 1\n",
      "['DIN2_nor2_Q', 'DIN1_nor2_Q', 'DIN1_nnd4_Q', 'DIN3_nor5_Q', 'DIN2_xor2_Q'] 1\n",
      "['DIN2_nor2_Q', 'DIN1_nor2_Q', 'DIN1_nnd4_Q', 'DIN3_nor5_Q', 'DIN2_xor2_Q'] 1\n",
      "['DIN1_and2_Q', 'DIN2_nor2_Q', 'DIN1_nnd4_Q', 'DIN3_nor5_Q', 'DIN2_xor2_Q'] 1\n",
      "['DIN1_and2_Q', 'DIN2_nor2_Q', 'DIN1_nnd4_Q', 'DIN3_nor5_Q', 'DIN2_xor2_Q'] 1\n",
      "['DIN2_and2_Q', 'DIN2_nor2_Q', 'DIN1_nnd4_Q', 'DIN3_nor5_Q', 'DIN2_xor2_Q'] 1\n",
      "['DIN2_and2_Q', 'DIN2_nor2_Q', 'DIN1_nnd4_Q', 'DIN3_nor5_Q', 'DIN2_xor2_Q'] 1\n",
      "['DIN1_nor2_Q', 'DIN1_nor2_Q', 'DIN2_nnd4_Q', 'DIN3_nor5_Q', 'DIN2_xor2_Q'] 1\n",
      "['DIN1_nor2_Q', 'DIN1_nor2_Q', 'DIN2_nnd4_Q', 'DIN3_nor5_Q', 'DIN2_xor2_Q'] 1\n",
      "['DIN2_nor2_Q', 'DIN1_nor2_Q', 'DIN2_nnd4_Q', 'DIN3_nor5_Q', 'DIN2_xor2_Q'] 1\n",
      "['DIN2_nor2_Q', 'DIN1_nor2_Q', 'DIN2_nnd4_Q', 'DIN3_nor5_Q', 'DIN2_xor2_Q'] 1\n",
      "['DIN1_nor2_Q', 'DIN2_nor2_Q', 'DIN2_nnd4_Q', 'DIN3_nor5_Q', 'DIN2_xor2_Q'] 1\n",
      "['DIN1_nor2_Q', 'DIN2_nor2_Q', 'DIN2_nnd4_Q', 'DIN3_nor5_Q', 'DIN2_xor2_Q'] 1\n",
      "['DIN2_nor2_Q', 'DIN2_nor2_Q', 'DIN2_nnd4_Q', 'DIN3_nor5_Q', 'DIN2_xor2_Q'] 1\n",
      "['DIN2_nor2_Q', 'DIN2_nor2_Q', 'DIN2_nnd4_Q', 'DIN3_nor5_Q', 'DIN2_xor2_Q'] 1\n",
      "['DIN1_nor2_Q', 'DIN1_nor2_Q', 'DIN3_nnd4_Q', 'DIN3_nor5_Q', 'DIN2_xor2_Q'] 1\n",
      "['DIN1_nor2_Q', 'DIN1_nor2_Q', 'DIN3_nnd4_Q', 'DIN3_nor5_Q', 'DIN2_xor2_Q'] 1\n",
      "['DIN2_nor2_Q', 'DIN1_nor2_Q', 'DIN3_nnd4_Q', 'DIN3_nor5_Q', 'DIN2_xor2_Q'] 1\n",
      "['DIN2_nor2_Q', 'DIN1_nor2_Q', 'DIN3_nnd4_Q', 'DIN3_nor5_Q', 'DIN2_xor2_Q'] 1\n",
      "['DIN1_and2_Q', 'DIN2_nor2_Q', 'DIN3_nnd4_Q', 'DIN3_nor5_Q', 'DIN2_xor2_Q'] 1\n",
      "['DIN1_and2_Q', 'DIN2_nor2_Q', 'DIN3_nnd4_Q', 'DIN3_nor5_Q', 'DIN2_xor2_Q'] 1\n",
      "['DIN2_and2_Q', 'DIN2_nor2_Q', 'DIN3_nnd4_Q', 'DIN3_nor5_Q', 'DIN2_xor2_Q'] 1\n",
      "['DIN2_and2_Q', 'DIN2_nor2_Q', 'DIN3_nnd4_Q', 'DIN3_nor5_Q', 'DIN2_xor2_Q'] 1\n",
      "['DIN1_nor2_Q', 'DIN1_nor2_Q', 'DIN4_nnd4_Q', 'DIN3_nor5_Q', 'DIN2_xor2_Q'] 1\n",
      "['DIN1_nor2_Q', 'DIN1_nor2_Q', 'DIN4_nnd4_Q', 'DIN3_nor5_Q', 'DIN2_xor2_Q'] 1\n",
      "['DIN2_nor2_Q', 'DIN1_nor2_Q', 'DIN4_nnd4_Q', 'DIN3_nor5_Q', 'DIN2_xor2_Q'] 1\n",
      "['DIN2_nor2_Q', 'DIN1_nor2_Q', 'DIN4_nnd4_Q', 'DIN3_nor5_Q', 'DIN2_xor2_Q'] 1\n",
      "['DIN1_nor2_Q', 'DIN2_nor2_Q', 'DIN4_nnd4_Q', 'DIN3_nor5_Q', 'DIN2_xor2_Q'] 1\n",
      "['DIN1_nor2_Q', 'DIN2_nor2_Q', 'DIN4_nnd4_Q', 'DIN3_nor5_Q', 'DIN2_xor2_Q'] 1\n",
      "['DIN2_nor2_Q', 'DIN2_nor2_Q', 'DIN4_nnd4_Q', 'DIN3_nor5_Q', 'DIN2_xor2_Q'] 1\n",
      "['DIN2_nor2_Q', 'DIN2_nor2_Q', 'DIN4_nnd4_Q', 'DIN3_nor5_Q', 'DIN2_xor2_Q'] 1\n"
     ]
    }
   ],
   "source": [
    "all_embds, all_cmps, all_labels = [], [], []\n",
    "for pcp_emb in pcp_embs:\n",
    "    p_emb, label = pcp_emb\n",
    "    full_pcp_cmp = []\n",
    "    for i in range(5):\n",
    "        name = get_cmp_by_emb(HTnn_net.val_data.word2vec_dict, list(np.float32(p_emb[i])))\n",
    "        full_pcp_cmp.append(name)\n",
    "    \n",
    "    all_labels.append(label.item())\n",
    "    all_embds.append(p_emb)\n",
    "    all_cmps.append(full_pcp_cmp)\n",
    "\n",
    "for cmp, label in zip(all_cmps, all_labels):\n",
    "    print(cmp, label)"
   ]
  },
  {
   "cell_type": "markdown",
   "id": "ee32c34e",
   "metadata": {},
   "source": [
    "### Define a genetic search algorithm to find an approximate HT circuit with optimal tradeoff between approx-error and HT-detect-score"
   ]
  },
  {
   "cell_type": "code",
   "execution_count": 11,
   "id": "25121a9c",
   "metadata": {},
   "outputs": [],
   "source": [
    "def genetic_search(HTnn_net, orig_pcp_list, population_size, generations):\n",
    "    population = [mutate_pcp_list(HTnn_net, deepcopy(orig_pcp_list), n_changes=random.randint(1, 2)) for _ in range(population_size)]  \n",
    "    \n",
    "    best_solutions = []\n",
    "    \n",
    "    for _ in range(generations):\n",
    "        fitness_scores, appx_errs, dect_errs = [], [], []\n",
    "        for i in range(len(population)):\n",
    "            appx_err = approximation_error(deepcopy(orig_pcp_list), deepcopy(population[i]))\n",
    "            dect_err = detect_score(HTnn_net, get_all_embeddings(HTnn_net, deepcopy(population[i])))\n",
    "            appx_errs.append(round(appx_err, 2))\n",
    "            dect_errs.append(round(dect_err, 2))\n",
    "            fitness_scores.append(appx_err+dect_err)\n",
    "                \n",
    "        # Update best solutions\n",
    "        for i, fitness in enumerate(fitness_scores):\n",
    "            best_solutions.append((deepcopy(population[i]), fitness, appx_errs[i], dect_errs[i]))\n",
    "        best_solutions.sort(key=lambda x: x[1])  # Sort by fitness score\n",
    "        best_solutions = best_solutions[:1]  # Keep only top 10\n",
    "        \n",
    "        parents = random.choices(population, weights=fitness_scores, k=population_size)   \n",
    "        new_population = []\n",
    "        for i in range(0, population_size, 2):\n",
    "            parent1, parent2 = parents[i], parents[i+1]    \n",
    "            child1 = mutate_pcp_list(HTnn_net, deepcopy(parent1))\n",
    "            child2 = mutate_pcp_list(HTnn_net, deepcopy(parent2))\n",
    "            new_population.extend([child1, child2])\n",
    "        \n",
    "        population = new_population\n",
    "    \n",
    "    return best_solutions"
   ]
  },
  {
   "cell_type": "markdown",
   "id": "ccea5c0c",
   "metadata": {},
   "source": [
    "### Run the genetic search on the pre-selected trojan circuit (i.e., 'troj33_0U4@c6288_T033_noassign_vallogic')"
   ]
  },
  {
   "cell_type": "code",
   "execution_count": 16,
   "id": "daea9ee3",
   "metadata": {},
   "outputs": [
    {
     "name": "stdout",
     "output_type": "stream",
     "text": [
      "********* Average Approximation Error 0.05\n",
      "********* HT Detection Error 0.0\n",
      "********* Show changes in the PCP traces (Original PCP --> New PCP)\n",
      "['DIN1_nor2_Q', 'DIN1_nor2_Q', 'DIN1_nnd4_Q', 'DIN3_nor5_Q', 'DIN2_xor2_Q'] ----> ['DIN1_nor2_Q', 'DIN1_nor2_Q', 'DIN1_nnd4_Q', 'DIN3_nor5_Q', 'DIN2_nnd2_Q']\n",
      "['DIN1_nor2_Q', 'DIN1_nor2_Q', 'DIN1_nnd4_Q', 'DIN3_nor5_Q', 'DIN2_xor2_Q'] ----> ['DIN1_nor2_Q', 'DIN1_nor2_Q', 'DIN1_nnd4_Q', 'DIN3_nor5_Q', 'DIN2_nnd2_Q']\n",
      "['DIN2_nor2_Q', 'DIN1_nor2_Q', 'DIN1_nnd4_Q', 'DIN3_nor5_Q', 'DIN2_xor2_Q'] ----> ['DIN2_nor2_Q', 'DIN1_nor2_Q', 'DIN1_nnd4_Q', 'DIN3_nor5_Q', 'DIN2_nnd2_Q']\n",
      "['DIN2_nor2_Q', 'DIN1_nor2_Q', 'DIN1_nnd4_Q', 'DIN3_nor5_Q', 'DIN2_xor2_Q'] ----> ['DIN2_nor2_Q', 'DIN1_nor2_Q', 'DIN1_nnd4_Q', 'DIN3_nor5_Q', 'DIN2_nnd2_Q']\n",
      "['DIN1_and2_Q', 'DIN2_nor2_Q', 'DIN1_nnd4_Q', 'DIN3_nor5_Q', 'DIN2_xor2_Q'] ----> ['DIN1_and2_Q', 'DIN2_nor2_Q', 'DIN1_nnd4_Q', 'DIN3_nor5_Q', 'DIN2_nnd2_Q']\n",
      "['DIN1_and2_Q', 'DIN2_nor2_Q', 'DIN1_nnd4_Q', 'DIN3_nor5_Q', 'DIN2_xor2_Q'] ----> ['DIN1_and2_Q', 'DIN2_nor2_Q', 'DIN1_nnd4_Q', 'DIN3_nor5_Q', 'DIN2_nnd2_Q']\n",
      "['DIN2_and2_Q', 'DIN2_nor2_Q', 'DIN1_nnd4_Q', 'DIN3_nor5_Q', 'DIN2_xor2_Q'] ----> ['DIN2_and2_Q', 'DIN2_nor2_Q', 'DIN1_nnd4_Q', 'DIN3_nor5_Q', 'DIN2_nnd2_Q']\n",
      "['DIN2_and2_Q', 'DIN2_nor2_Q', 'DIN1_nnd4_Q', 'DIN3_nor5_Q', 'DIN2_xor2_Q'] ----> ['DIN2_and2_Q', 'DIN2_nor2_Q', 'DIN1_nnd4_Q', 'DIN3_nor5_Q', 'DIN2_nnd2_Q']\n",
      "['DIN1_nor2_Q', 'DIN1_nor2_Q', 'DIN2_nnd4_Q', 'DIN3_nor5_Q', 'DIN2_xor2_Q'] ----> ['DIN1_nor2_Q', 'DIN1_nor2_Q', 'DIN2_nnd4_Q', 'DIN3_nor5_Q', 'DIN2_nnd2_Q']\n",
      "['DIN1_nor2_Q', 'DIN1_nor2_Q', 'DIN2_nnd4_Q', 'DIN3_nor5_Q', 'DIN2_xor2_Q'] ----> ['DIN1_nor2_Q', 'DIN1_nor2_Q', 'DIN2_nnd4_Q', 'DIN3_nor5_Q', 'DIN2_nnd2_Q']\n",
      "['DIN2_nor2_Q', 'DIN1_nor2_Q', 'DIN2_nnd4_Q', 'DIN3_nor5_Q', 'DIN2_xor2_Q'] ----> ['DIN2_nor2_Q', 'DIN1_nor2_Q', 'DIN2_nnd4_Q', 'DIN3_nor5_Q', 'DIN2_nnd2_Q']\n",
      "['DIN2_nor2_Q', 'DIN1_nor2_Q', 'DIN2_nnd4_Q', 'DIN3_nor5_Q', 'DIN2_xor2_Q'] ----> ['DIN2_nor2_Q', 'DIN1_nor2_Q', 'DIN2_nnd4_Q', 'DIN3_nor5_Q', 'DIN2_nnd2_Q']\n",
      "['DIN1_nor2_Q', 'DIN2_nor2_Q', 'DIN2_nnd4_Q', 'DIN3_nor5_Q', 'DIN2_xor2_Q'] ----> ['DIN1_nor2_Q', 'DIN2_nor2_Q', 'DIN2_nnd4_Q', 'DIN3_nor5_Q', 'DIN2_nnd2_Q']\n",
      "['DIN1_nor2_Q', 'DIN2_nor2_Q', 'DIN2_nnd4_Q', 'DIN3_nor5_Q', 'DIN2_xor2_Q'] ----> ['DIN1_nor2_Q', 'DIN2_nor2_Q', 'DIN2_nnd4_Q', 'DIN3_nor5_Q', 'DIN2_nnd2_Q']\n",
      "['DIN2_nor2_Q', 'DIN2_nor2_Q', 'DIN2_nnd4_Q', 'DIN3_nor5_Q', 'DIN2_xor2_Q'] ----> ['DIN2_nor2_Q', 'DIN2_nor2_Q', 'DIN2_nnd4_Q', 'DIN3_nor5_Q', 'DIN2_nnd2_Q']\n",
      "['DIN2_nor2_Q', 'DIN2_nor2_Q', 'DIN2_nnd4_Q', 'DIN3_nor5_Q', 'DIN2_xor2_Q'] ----> ['DIN2_nor2_Q', 'DIN2_nor2_Q', 'DIN2_nnd4_Q', 'DIN3_nor5_Q', 'DIN2_nnd2_Q']\n",
      "['DIN1_nor2_Q', 'DIN1_nor2_Q', 'DIN3_nnd4_Q', 'DIN3_nor5_Q', 'DIN2_xor2_Q'] ----> ['DIN1_nor2_Q', 'DIN1_nor2_Q', 'DIN3_nnd4_Q', 'DIN3_nor5_Q', 'DIN2_nnd2_Q']\n",
      "['DIN1_nor2_Q', 'DIN1_nor2_Q', 'DIN3_nnd4_Q', 'DIN3_nor5_Q', 'DIN2_xor2_Q'] ----> ['DIN1_nor2_Q', 'DIN1_nor2_Q', 'DIN3_nnd4_Q', 'DIN3_nor5_Q', 'DIN2_nnd2_Q']\n",
      "['DIN2_nor2_Q', 'DIN1_nor2_Q', 'DIN3_nnd4_Q', 'DIN3_nor5_Q', 'DIN2_xor2_Q'] ----> ['DIN2_nor2_Q', 'DIN1_nor2_Q', 'DIN3_nnd4_Q', 'DIN3_nor5_Q', 'DIN2_nnd2_Q']\n",
      "['DIN2_nor2_Q', 'DIN1_nor2_Q', 'DIN3_nnd4_Q', 'DIN3_nor5_Q', 'DIN2_xor2_Q'] ----> ['DIN2_nor2_Q', 'DIN1_nor2_Q', 'DIN3_nnd4_Q', 'DIN3_nor5_Q', 'DIN2_nnd2_Q']\n",
      "['DIN1_and2_Q', 'DIN2_nor2_Q', 'DIN3_nnd4_Q', 'DIN3_nor5_Q', 'DIN2_xor2_Q'] ----> ['DIN1_and2_Q', 'DIN2_nor2_Q', 'DIN3_nnd4_Q', 'DIN3_nor5_Q', 'DIN2_nnd2_Q']\n",
      "['DIN1_and2_Q', 'DIN2_nor2_Q', 'DIN3_nnd4_Q', 'DIN3_nor5_Q', 'DIN2_xor2_Q'] ----> ['DIN1_and2_Q', 'DIN2_nor2_Q', 'DIN3_nnd4_Q', 'DIN3_nor5_Q', 'DIN2_nnd2_Q']\n",
      "['DIN2_and2_Q', 'DIN2_nor2_Q', 'DIN3_nnd4_Q', 'DIN3_nor5_Q', 'DIN2_xor2_Q'] ----> ['DIN2_and2_Q', 'DIN2_nor2_Q', 'DIN3_nnd4_Q', 'DIN3_nor5_Q', 'DIN2_nnd2_Q']\n",
      "['DIN2_and2_Q', 'DIN2_nor2_Q', 'DIN3_nnd4_Q', 'DIN3_nor5_Q', 'DIN2_xor2_Q'] ----> ['DIN2_and2_Q', 'DIN2_nor2_Q', 'DIN3_nnd4_Q', 'DIN3_nor5_Q', 'DIN2_nnd2_Q']\n",
      "['DIN1_nor2_Q', 'DIN1_nor2_Q', 'DIN4_nnd4_Q', 'DIN3_nor5_Q', 'DIN2_xor2_Q'] ----> ['DIN1_nor2_Q', 'DIN1_nor2_Q', 'DIN4_nnd4_Q', 'DIN3_nor5_Q', 'DIN2_nnd2_Q']\n",
      "['DIN1_nor2_Q', 'DIN1_nor2_Q', 'DIN4_nnd4_Q', 'DIN3_nor5_Q', 'DIN2_xor2_Q'] ----> ['DIN1_nor2_Q', 'DIN1_nor2_Q', 'DIN4_nnd4_Q', 'DIN3_nor5_Q', 'DIN2_nnd2_Q']\n",
      "['DIN2_nor2_Q', 'DIN1_nor2_Q', 'DIN4_nnd4_Q', 'DIN3_nor5_Q', 'DIN2_xor2_Q'] ----> ['DIN2_nor2_Q', 'DIN1_nor2_Q', 'DIN4_nnd4_Q', 'DIN3_nor5_Q', 'DIN2_nnd2_Q']\n",
      "['DIN2_nor2_Q', 'DIN1_nor2_Q', 'DIN4_nnd4_Q', 'DIN3_nor5_Q', 'DIN2_xor2_Q'] ----> ['DIN2_nor2_Q', 'DIN1_nor2_Q', 'DIN4_nnd4_Q', 'DIN3_nor5_Q', 'DIN2_nnd2_Q']\n",
      "['DIN1_nor2_Q', 'DIN2_nor2_Q', 'DIN4_nnd4_Q', 'DIN3_nor5_Q', 'DIN2_xor2_Q'] ----> ['DIN1_nor2_Q', 'DIN2_nor2_Q', 'DIN4_nnd4_Q', 'DIN3_nor5_Q', 'DIN2_nnd2_Q']\n",
      "['DIN1_nor2_Q', 'DIN2_nor2_Q', 'DIN4_nnd4_Q', 'DIN3_nor5_Q', 'DIN2_xor2_Q'] ----> ['DIN1_nor2_Q', 'DIN2_nor2_Q', 'DIN4_nnd4_Q', 'DIN3_nor5_Q', 'DIN2_nnd2_Q']\n",
      "['DIN2_nor2_Q', 'DIN2_nor2_Q', 'DIN4_nnd4_Q', 'DIN3_nor5_Q', 'DIN2_xor2_Q'] ----> ['DIN2_nor2_Q', 'DIN2_nor2_Q', 'DIN4_nnd4_Q', 'DIN3_nor5_Q', 'DIN2_nnd2_Q']\n",
      "['DIN2_nor2_Q', 'DIN2_nor2_Q', 'DIN4_nnd4_Q', 'DIN3_nor5_Q', 'DIN2_xor2_Q'] ----> ['DIN2_nor2_Q', 'DIN2_nor2_Q', 'DIN4_nnd4_Q', 'DIN3_nor5_Q', 'DIN2_nnd2_Q']\n"
     ]
    }
   ],
   "source": [
    "best_solution = genetic_search(HTnn_net, deepcopy(all_cmps), population_size=128, generations=10)\n",
    "print('********* Average Approximation Error', best_solution[0][2])\n",
    "print('********* HT Detection Error', best_solution[0][3])\n",
    "print('********* Show changes in the PCP traces (Original PCP --> New PCP)')\n",
    "for old_elem, new_elem in zip(deepcopy(all_cmps), best_solution[0][0]):\n",
    "    print('{} ----> {}'.format(old_elem, new_elem))\n"
   ]
  },
  {
   "cell_type": "code",
   "execution_count": null,
   "id": "12dade11",
   "metadata": {},
   "outputs": [],
   "source": []
  }
 ],
 "metadata": {
  "kernelspec": {
   "display_name": "Python 3",
   "language": "python",
   "name": "python3"
  },
  "language_info": {
   "codemirror_mode": {
    "name": "ipython",
    "version": 3
   },
   "file_extension": ".py",
   "mimetype": "text/x-python",
   "name": "python",
   "nbconvert_exporter": "python",
   "pygments_lexer": "ipython3",
   "version": "3.7.7"
  }
 },
 "nbformat": 4,
 "nbformat_minor": 5
}
